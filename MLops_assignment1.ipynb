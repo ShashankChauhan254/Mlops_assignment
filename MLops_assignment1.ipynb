{
  "nbformat": 4,
  "nbformat_minor": 0,
  "metadata": {
    "colab": {
      "provenance": []
    },
    "kernelspec": {
      "name": "python3",
      "display_name": "Python 3"
    },
    "language_info": {
      "name": "python"
    }
  },
  "cells": [
    {
      "cell_type": "markdown",
      "source": [
        "## MLOps Assignment 1"
      ],
      "metadata": {
        "id": "LlIGlcIiywyq"
      }
    },
    {
      "cell_type": "markdown",
      "source": [
        "Q1. Print multiplication table from 1 to 10"
      ],
      "metadata": {
        "id": "i3GplYoCqa89"
      }
    },
    {
      "cell_type": "code",
      "source": [
        "#write here and run the cell\n",
        "for i in range(1, 11):\n",
        "  print(i, 'th Table: ')\n",
        "  for j in range(1, 11):\n",
        "    print(i, 'x', j, '=', 10*i)"
      ],
      "metadata": {
        "id": "Vfm5RBY0qbIs",
        "colab": {
          "base_uri": "https://localhost:8080/"
        },
        "outputId": "22b29b50-0bc3-45ee-b28b-291256ce0e70"
      },
      "execution_count": 6,
      "outputs": [
        {
          "output_type": "stream",
          "name": "stdout",
          "text": [
            "1 th Table: \n",
            "1 x 1 = 10\n",
            "1 x 2 = 10\n",
            "1 x 3 = 10\n",
            "1 x 4 = 10\n",
            "1 x 5 = 10\n",
            "1 x 6 = 10\n",
            "1 x 7 = 10\n",
            "1 x 8 = 10\n",
            "1 x 9 = 10\n",
            "1 x 10 = 10\n",
            "2 th Table: \n",
            "2 x 1 = 20\n",
            "2 x 2 = 20\n",
            "2 x 3 = 20\n",
            "2 x 4 = 20\n",
            "2 x 5 = 20\n",
            "2 x 6 = 20\n",
            "2 x 7 = 20\n",
            "2 x 8 = 20\n",
            "2 x 9 = 20\n",
            "2 x 10 = 20\n",
            "3 th Table: \n",
            "3 x 1 = 30\n",
            "3 x 2 = 30\n",
            "3 x 3 = 30\n",
            "3 x 4 = 30\n",
            "3 x 5 = 30\n",
            "3 x 6 = 30\n",
            "3 x 7 = 30\n",
            "3 x 8 = 30\n",
            "3 x 9 = 30\n",
            "3 x 10 = 30\n",
            "4 th Table: \n",
            "4 x 1 = 40\n",
            "4 x 2 = 40\n",
            "4 x 3 = 40\n",
            "4 x 4 = 40\n",
            "4 x 5 = 40\n",
            "4 x 6 = 40\n",
            "4 x 7 = 40\n",
            "4 x 8 = 40\n",
            "4 x 9 = 40\n",
            "4 x 10 = 40\n",
            "5 th Table: \n",
            "5 x 1 = 50\n",
            "5 x 2 = 50\n",
            "5 x 3 = 50\n",
            "5 x 4 = 50\n",
            "5 x 5 = 50\n",
            "5 x 6 = 50\n",
            "5 x 7 = 50\n",
            "5 x 8 = 50\n",
            "5 x 9 = 50\n",
            "5 x 10 = 50\n",
            "6 th Table: \n",
            "6 x 1 = 60\n",
            "6 x 2 = 60\n",
            "6 x 3 = 60\n",
            "6 x 4 = 60\n",
            "6 x 5 = 60\n",
            "6 x 6 = 60\n",
            "6 x 7 = 60\n",
            "6 x 8 = 60\n",
            "6 x 9 = 60\n",
            "6 x 10 = 60\n",
            "7 th Table: \n",
            "7 x 1 = 70\n",
            "7 x 2 = 70\n",
            "7 x 3 = 70\n",
            "7 x 4 = 70\n",
            "7 x 5 = 70\n",
            "7 x 6 = 70\n",
            "7 x 7 = 70\n",
            "7 x 8 = 70\n",
            "7 x 9 = 70\n",
            "7 x 10 = 70\n",
            "8 th Table: \n",
            "8 x 1 = 80\n",
            "8 x 2 = 80\n",
            "8 x 3 = 80\n",
            "8 x 4 = 80\n",
            "8 x 5 = 80\n",
            "8 x 6 = 80\n",
            "8 x 7 = 80\n",
            "8 x 8 = 80\n",
            "8 x 9 = 80\n",
            "8 x 10 = 80\n",
            "9 th Table: \n",
            "9 x 1 = 90\n",
            "9 x 2 = 90\n",
            "9 x 3 = 90\n",
            "9 x 4 = 90\n",
            "9 x 5 = 90\n",
            "9 x 6 = 90\n",
            "9 x 7 = 90\n",
            "9 x 8 = 90\n",
            "9 x 9 = 90\n",
            "9 x 10 = 90\n",
            "10 th Table: \n",
            "10 x 1 = 100\n",
            "10 x 2 = 100\n",
            "10 x 3 = 100\n",
            "10 x 4 = 100\n",
            "10 x 5 = 100\n",
            "10 x 6 = 100\n",
            "10 x 7 = 100\n",
            "10 x 8 = 100\n",
            "10 x 9 = 100\n",
            "10 x 10 = 100\n"
          ]
        }
      ]
    },
    {
      "cell_type": "markdown",
      "source": [
        "Q2. Given two lists, l1 and l2, write a program to create a third list l3 by picking an odd-index element from the list l1 and even index elements from the list l2."
      ],
      "metadata": {
        "id": "kCxjfhGtiMFb"
      }
    },
    {
      "cell_type": "code",
      "source": [
        "#write here and run the cell\n",
        "def colab(l1, l2):\n",
        "  l3 = []\n",
        "  for i in range(len(l1) + len(l2)):\n",
        "    if i % 2 == 0:\n",
        "      l3.append(l2[i // 2])\n",
        "    else:\n",
        "      l3.append(l1[i // 2])\n",
        "  return l3\n",
        "\n",
        "l1 = [3, 6, 9, 12, 15, 18, 21]\n",
        "l2 = [4, 8, 12, 16, 20, 24, 28]\n",
        "l3 = colab(l1, l2)\n",
        "print(l3)"
      ],
      "metadata": {
        "id": "r1lkQPN8iNSc",
        "colab": {
          "base_uri": "https://localhost:8080/"
        },
        "outputId": "ec72044c-ff2e-4cf8-9c1c-96b598c77317"
      },
      "execution_count": 23,
      "outputs": [
        {
          "output_type": "stream",
          "name": "stdout",
          "text": [
            "[4, 3, 8, 6, 12, 9, 16, 12, 20, 15, 24, 18, 28, 21]\n"
          ]
        }
      ]
    },
    {
      "cell_type": "markdown",
      "source": [
        "Q3. Print a this pattern(*)\n",
        "\n",
        "    * * * * * * * *\n",
        "      * * * * * * *\n",
        "        * * * * * *\n",
        "          * * * * *\n",
        "            * * * *\n",
        "              * * *\n",
        "                * *\n",
        "                  *"
      ],
      "metadata": {
        "id": "GBb0FgtIq4YA"
      }
    },
    {
      "cell_type": "code",
      "source": [
        "#write here and run the cell\n",
        "def pattern(n):\n",
        "    for i in range(n):\n",
        "        for j in range(0, n):\n",
        "            if j > i:\n",
        "                print(\"*\", end=\"\")\n",
        "            else:\n",
        "                print(\" \", end=\"\")\n",
        "        print()\n",
        "\n",
        "pattern(8)"
      ],
      "metadata": {
        "id": "rfbGzuA3rcGs",
        "colab": {
          "base_uri": "https://localhost:8080/"
        },
        "outputId": "8abc70e9-dd66-45bd-f1ac-69e6a4d3f293"
      },
      "execution_count": 24,
      "outputs": [
        {
          "output_type": "stream",
          "name": "stdout",
          "text": [
            " *******\n",
            "  ******\n",
            "   *****\n",
            "    ****\n",
            "     ***\n",
            "      **\n",
            "       *\n",
            "        \n"
          ]
        }
      ]
    },
    {
      "cell_type": "markdown",
      "source": [
        "Q4. Create a function named `exponent(base, exp)` that returns an integer representing the result of raising `base` to the power of `exp`.\n",
        "`exp` is >0.\n",
        "\n",
        "base = 5\n",
        "exponent = 4\n",
        "\n",
        "5 raises to the power of 4 is: 625\n",
        "i.e. (5 *5 * 5 *5 = 625)"
      ],
      "metadata": {
        "id": "WIblh-z6s9me"
      }
    },
    {
      "cell_type": "code",
      "source": [
        "#write here and run the cell\n",
        "def exponent(base, exp):\n",
        "  result = 1\n",
        "  for i in range(exp):\n",
        "    result *= base\n",
        "  return result\n",
        "\n",
        "print(exponent(5, 4))"
      ],
      "metadata": {
        "id": "6-KKDQNWs8eQ",
        "colab": {
          "base_uri": "https://localhost:8080/"
        },
        "outputId": "65c76289-f0a3-4a71-a782-9dbe43b4da26"
      },
      "execution_count": 25,
      "outputs": [
        {
          "output_type": "stream",
          "name": "stdout",
          "text": [
            "625\n"
          ]
        }
      ]
    },
    {
      "cell_type": "markdown",
      "source": [
        "**Q5**. Create a file named test.txt and insert the following content into it.\n",
        "\n",
        "    line1\n",
        "    line2\n",
        "    line3\n",
        "    line4\n",
        "    line5\n",
        "    line6\n",
        "    line7\n",
        "\n",
        "Write a program which write all content of a given file (test.txt) into a new file by skipping line number 5 (line5)"
      ],
      "metadata": {
        "id": "_QUrD8h6t6PN"
      }
    },
    {
      "cell_type": "code",
      "source": [
        "#write here and run the cell\n",
        "with open('test.txt', 'w') as file:\n",
        "  file.write('line1\\n')\n",
        "  file.write('line2\\n')\n",
        "  file.write('line3\\n')\n",
        "  file.write('line4\\n')\n",
        "  file.write('line5\\n')\n",
        "  file.write('line6\\n')\n",
        "  file.write('line7\\n')\n",
        "  file.close()\n",
        "\n",
        "print(\"Print test.txt\")\n",
        "with open('test.txt', 'r') as file:\n",
        "  print(file.read())\n",
        "  file.close()\n",
        "\n",
        "with open('test.txt', 'r') as infile:\n",
        "  with open('new.txt', 'w') as outfile:\n",
        "    for i, line in enumerate(infile):\n",
        "      if i != 4:\n",
        "        outfile.write(line)\n",
        "    outfile.close()\n",
        "  infile.close()\n",
        "\n",
        "print(\"Print new.txt\")\n",
        "with open('new.txt', 'r') as file:\n",
        "  print(file.read())\n",
        "  file.close()"
      ],
      "metadata": {
        "id": "I2KF1QHKrq-s",
        "colab": {
          "base_uri": "https://localhost:8080/"
        },
        "outputId": "325c3612-f2a4-4d83-e26a-f4decbc6d04e"
      },
      "execution_count": 28,
      "outputs": [
        {
          "output_type": "stream",
          "name": "stdout",
          "text": [
            "Print test.txt\n",
            "line1\n",
            "line2\n",
            "line3\n",
            "line4\n",
            "line5\n",
            "line6\n",
            "line7\n",
            "\n",
            "Print new.txt\n",
            "line1\n",
            "line2\n",
            "line3\n",
            "line4\n",
            "line6\n",
            "line7\n",
            "\n"
          ]
        }
      ]
    },
    {
      "cell_type": "markdown",
      "source": [
        "Q6. Write a program which receives three names from the user in a single input() function call.\n",
        "\n",
        "    Input: IIT JODHPUR RAJASTHAN\n",
        "\n",
        "    Output:\n",
        "    IIT\n",
        "    JODHPUR\n",
        "    RAJASTHAN"
      ],
      "metadata": {
        "id": "6cdAt0ONvMVI"
      }
    },
    {
      "cell_type": "code",
      "source": [
        "#write here and run the cell\n",
        "names = input()\n",
        "arr = []\n",
        "name = \"\"\n",
        "space = 0\n",
        "\n",
        "for char in names:\n",
        "  if char == ' ':\n",
        "    arr.append(name)\n",
        "    name = \"\"\n",
        "    space += 1\n",
        "  else:\n",
        "    name += char\n",
        "arr.append(name)\n",
        "\n",
        "for name in arr:\n",
        "  print(name)"
      ],
      "metadata": {
        "id": "Mo0wyeB6vJJm",
        "colab": {
          "base_uri": "https://localhost:8080/"
        },
        "outputId": "ec3aa04a-1930-4a17-d53d-19f1f1abd819"
      },
      "execution_count": 11,
      "outputs": [
        {
          "output_type": "stream",
          "name": "stdout",
          "text": [
            "Shashank Pravinbhai Chauhan\n",
            "Shashank\n",
            "Pravinbhai\n",
            "Chauhan\n"
          ]
        }
      ]
    },
    {
      "cell_type": "markdown",
      "source": [
        "Q7. Write a program to define a function called show_employee() with the following requirements:\n",
        "\n",
        "*   It should take the employee's name and salary as input and display both.\n",
        "*   If the salary is not provided in the function call, assign a default value of 9000 to it.\n",
        "\n",
        "After passing:\n",
        "\n",
        "showEmployee(\"Bill Gates\", 12000)\n",
        "\n",
        "showEmployee(\"Elon Musk\")\n",
        "\n",
        "It should print:\n",
        "\n",
        "Name: Bill Gates salary: 12000\n",
        "\n",
        "Name: Elon Musk salary: 9000"
      ],
      "metadata": {
        "id": "jwSKpPcYv_De"
      }
    },
    {
      "cell_type": "code",
      "source": [
        "#write here and run the cell\n",
        "def show_employee(name, salary = 9000):\n",
        "  print(f\"Name: {name}  Salary: {salary}\")\n",
        "\n",
        "show_employee(\"Bill Gates\", 12000)\n",
        "show_employee(\"Elon Musk\")"
      ],
      "metadata": {
        "id": "yyzhkF1Lv94j",
        "colab": {
          "base_uri": "https://localhost:8080/"
        },
        "outputId": "6be8b281-0cc4-4b94-94a0-bdeb93150c84"
      },
      "execution_count": 29,
      "outputs": [
        {
          "output_type": "stream",
          "name": "stdout",
          "text": [
            "Name: Bill Gates  Salary: 12000\n",
            "Name: Elon Musk  Salary: 9000\n"
          ]
        }
      ]
    },
    {
      "cell_type": "markdown",
      "source": [
        "Q8. Write a program to identify words that contain both letters and digits from a given input string.\n",
        "\n",
        "    Given str1 = \"Harry25 is Gryffindor Wizard50 and cursed\"\n",
        "\n",
        "    Output:\n",
        "    Harry25\n",
        "    Wizard50"
      ],
      "metadata": {
        "id": "BAtCQH3pxXWV"
      }
    },
    {
      "cell_type": "code",
      "source": [
        "#write here and run the cell\n",
        "def digits(input_string):\n",
        "  word = input_string.split()\n",
        "  ans = []\n",
        "  for w in word:\n",
        "    for d in w:\n",
        "      if d.isdigit():\n",
        "        ans.append(w)\n",
        "        break\n",
        "  return ans\n",
        "\n",
        "str1 = \"Harry25 is Gryffindor Wizard50 and cursed\"\n",
        "print(digits(str1))"
      ],
      "metadata": {
        "id": "bqbyxYdqvJHY",
        "colab": {
          "base_uri": "https://localhost:8080/"
        },
        "outputId": "5348a398-10b4-413e-d248-aac62b725dce"
      },
      "execution_count": 30,
      "outputs": [
        {
          "output_type": "stream",
          "name": "stdout",
          "text": [
            "['Harry25', 'Wizard50']\n"
          ]
        }
      ]
    },
    {
      "cell_type": "markdown",
      "source": [
        "Q9. Write a program to substitute each special character in the given string with the symbol #.\n",
        "\n",
        "    Given: str1 = '/*Modi is @Politician & Melony!!'\n",
        "\n",
        "    Output: ##Modi is #Politician # Melony##"
      ],
      "metadata": {
        "id": "Ev6TIw7oyGzJ"
      }
    },
    {
      "cell_type": "code",
      "source": [
        "#write here and run the cell\n",
        "def special(input_string):\n",
        "  ans = ''\n",
        "  for char in input_string:\n",
        "    if char.isalpha() or char == \" \" or char.isdigit():\n",
        "      ans += char\n",
        "    else:\n",
        "      ans += '#'\n",
        "  return ans\n",
        "\n",
        "str1 = '/*Modi is @Politician & Melony!!'\n",
        "print(special(str1))"
      ],
      "metadata": {
        "id": "Hbg92hJtvJE7",
        "colab": {
          "base_uri": "https://localhost:8080/"
        },
        "outputId": "db1d1324-b30c-455b-c508-c917057c41b1"
      },
      "execution_count": 31,
      "outputs": [
        {
          "output_type": "stream",
          "name": "stdout",
          "text": [
            "##Modi is #Politician # Melony##\n"
          ]
        }
      ]
    },
    {
      "cell_type": "markdown",
      "source": [
        "Q10. Construct a Python set that displays elements from both lists as pairs.\n",
        "\n",
        "    Given:\n",
        "\n",
        "    first_list = [2, 3, 4, 5, 6, 7, 8]\n",
        "    second_list = [4, 9, 16, 25, 36, 49, 64]\n",
        "    Output: Result is  {(6, 36), (8, 64), (4, 16), (5, 25), (3, 9), (7, 49), (2, 4)}"
      ],
      "metadata": {
        "id": "L9zg8k_XyoMz"
      }
    },
    {
      "cell_type": "code",
      "source": [
        "#write here and run the cell\n",
        "def pairs(l1, l2):\n",
        "  ans = set()\n",
        "  for i in range(len(l1)):\n",
        "    pair = (l1[i], l2[i])\n",
        "    ans.add(pair)\n",
        "  return ans\n",
        "\n",
        "first_list = [2, 3, 4, 5, 6, 7, 8]\n",
        "second_list = [4, 9, 16, 25, 36, 49, 64]\n",
        "print(pairs(first_list, second_list))"
      ],
      "metadata": {
        "id": "aSBw6V0OvJCS",
        "colab": {
          "base_uri": "https://localhost:8080/"
        },
        "outputId": "9da6c072-5df3-43d0-b2eb-f4609fe95bd0"
      },
      "execution_count": 33,
      "outputs": [
        {
          "output_type": "stream",
          "name": "stdout",
          "text": [
            "{(7, 49), (2, 4), (4, 16), (8, 64), (6, 36), (3, 9), (5, 25)}\n"
          ]
        }
      ]
    },
    {
      "cell_type": "markdown",
      "source": [
        "Q11. Define two set A and B consisting of 5 elements. Now print the element after performing\n",
        "\n",
        "\n",
        "      1.   A-B\n",
        "      2.   B-A\n",
        "      3.   A∩B\n",
        "      4.   A∪B\n",
        "\n",
        "\n"
      ],
      "metadata": {
        "id": "JHa0SMOozZo9"
      }
    },
    {
      "cell_type": "code",
      "source": [
        "#write here and run the cell\n",
        "def Operations(A, B):\n",
        "  print(A - B)\n",
        "  print(B - A)\n",
        "  print(A & B)\n",
        "  print(A | B)\n",
        "\n",
        "A = set()\n",
        "B = set()\n",
        "\n",
        "for i in range(5):\n",
        "  x = input()\n",
        "  A.add(x)\n",
        "\n",
        "for i in range(5):\n",
        "  x = input()\n",
        "  B.add(x)\n",
        "\n",
        "Operations(A, B)"
      ],
      "metadata": {
        "id": "r9vL1bpHzZGg",
        "colab": {
          "base_uri": "https://localhost:8080/"
        },
        "outputId": "eb348890-dfd0-4020-bc7c-f39ecf9d9ec0"
      },
      "execution_count": 16,
      "outputs": [
        {
          "output_type": "stream",
          "name": "stdout",
          "text": [
            "2\n",
            "4\n",
            "5\n",
            "1\n",
            "7\n",
            "9\n",
            "8\n",
            "1\n",
            "2\n",
            "1\n",
            "{'4', '7', '5'}\n",
            "{'9', '8'}\n",
            "{'1', '2'}\n",
            "{'5', '1', '4', '2', '9', '7', '8'}\n"
          ]
        }
      ]
    },
    {
      "cell_type": "markdown",
      "source": [
        "## Object Oriented Programming Exercise 1:\n",
        "\n",
        "[Classes and Objects in Python](https://pynative.com/python-classes-and-objects/)\n",
        "\n",
        "[Instance variables in Python](https://pynative.com/python-instance-variables/)"
      ],
      "metadata": {
        "id": "UFjTtL_i00dz"
      }
    },
    {
      "cell_type": "markdown",
      "source": [
        "Q12. Create a Vehicle class with max_speed and mileage instance attributes."
      ],
      "metadata": {
        "id": "-PQELvq41z5B"
      }
    },
    {
      "cell_type": "code",
      "source": [
        "#write here and run the cell\n",
        "class Vehicle:\n",
        "  def __init__(self, max_speed, mileage):\n",
        "    self.maxspeed = max_speed\n",
        "    self.mileage = mileage\n",
        "\n",
        "  def display(self):\n",
        "    print(f\"Max Speed: {self.maxspeed}, Mileage: {self.mileage}\")\n",
        "    return\n",
        "\n",
        "vehicle = Vehicle(100, 10)\n",
        "vehicle.display()"
      ],
      "metadata": {
        "id": "Wa16l5-C0z3Z",
        "colab": {
          "base_uri": "https://localhost:8080/"
        },
        "outputId": "648a38f0-dcc1-48bc-ee54-57d858f924b4"
      },
      "execution_count": 34,
      "outputs": [
        {
          "output_type": "stream",
          "name": "stdout",
          "text": [
            "Max Speed: 100, Mileage: 10\n"
          ]
        }
      ]
    },
    {
      "cell_type": "markdown",
      "source": [
        "Q13. Create a child class Bus that will inherit all of the variables and methods of the Vehicle class.\n",
        "\n",
        "Create a Bus object that will inherit all of the variables and methods of the parent Vehicle class and display it."
      ],
      "metadata": {
        "id": "-Japqg35177L"
      }
    },
    {
      "cell_type": "code",
      "source": [
        "#write here and run the cell\n",
        "class Vehicle:\n",
        "  def __init__(self, max_speed, mileage):\n",
        "    self.maxspeed = max_speed\n",
        "    self.mileage = mileage\n",
        "\n",
        "class Bus(Vehicle):\n",
        "  def __init__(self, max_speed, mileage):\n",
        "    super().__init__(max_speed, mileage)\n",
        "\n",
        "  def display(self):\n",
        "    print(f\"Bus - Max Speed: {self.maxspeed}, Mileage: {self.mileage}\")\n",
        "    return\n",
        "\n",
        "bus = Bus(100, 10)\n",
        "bus.display()"
      ],
      "metadata": {
        "id": "nUvpX3qR2Upg",
        "colab": {
          "base_uri": "https://localhost:8080/"
        },
        "outputId": "5d4a4290-5dcd-4318-a518-9445f84583ad"
      },
      "execution_count": 18,
      "outputs": [
        {
          "output_type": "stream",
          "name": "stdout",
          "text": [
            "Bus - Max Speed: 100, Mileage: 10\n"
          ]
        }
      ]
    },
    {
      "cell_type": "markdown",
      "source": [
        "### Class Inheritance\n",
        "\n",
        "Q14. Create a Bus class that inherits from the Vehicle class. Give the capacity argument of Bus.seating_capacity() a default value of 50.\n",
        "\n",
        "Use the following code for your parent Vehicle class.\n",
        "\n",
        "    class Vehicle:\n",
        "      def __init__(self, name, max_speed, mileage):\n",
        "          self.name = name\n",
        "          self.max_speed = max_speed\n",
        "          self.mileage = mileage\n",
        "\n",
        "      def seating_capacity(self, capacity):\n",
        "          return f\"The seating capacity of a {self.name} is {capacity} passengers\"\n",
        "\n",
        "Expected Output:\n",
        "\n",
        "    The seating capacity of a bus is 50 passengers"
      ],
      "metadata": {
        "id": "fPFfg2Hh2VBe"
      }
    },
    {
      "cell_type": "code",
      "source": [
        "#write here and run the cell\n",
        "class Vehicle:\n",
        "  def __init__(self, name, max_speed, mileage):\n",
        "      self.name = name\n",
        "      self.max_speed = max_speed\n",
        "      self.mileage = mileage\n",
        "\n",
        "  def seating_capacity(self, capacity):\n",
        "      return f\"The seating capacity of a {self.name} is {capacity} passengers\"\n",
        "\n",
        "class Bus(Vehicle):\n",
        "  def __init__(self, name, max_speed, mileage):\n",
        "    super().__init__(name, max_speed, mileage)\n",
        "\n",
        "  def seating_capacity(self, capacity = 50):\n",
        "    return super().seating_capacity(capacity)\n",
        "\n",
        "bus = Bus(\"MyBus\", 100, 10)\n",
        "print(bus.seating_capacity(120))"
      ],
      "metadata": {
        "id": "TKalMy1B2_Ix",
        "colab": {
          "base_uri": "https://localhost:8080/"
        },
        "outputId": "b428c9c4-4067-4508-bd13-fc1d736a1c82"
      },
      "execution_count": 19,
      "outputs": [
        {
          "output_type": "stream",
          "name": "stdout",
          "text": [
            "The seating capacity of a MyBus is 120 passengers\n"
          ]
        }
      ]
    },
    {
      "cell_type": "markdown",
      "source": [
        "Q15. Create a Bus subclass that inherits from the Vehicle class. By default, the fare for any vehicle is calculated as the seating capacity multiplied by 100. For instances of the Bus class, an additional 10% maintenance fee should be applied to the total fare. Therefore, the final fare for a bus instance will be the sum of the total fare plus an additional 10% of that total fare.\n",
        "\n",
        "Note: The bus has a seating capacity of 50, so the final fare amount should be 5500. You need to override the fare() method from the Vehicle class in the Bus class.\n",
        "\n",
        "Use the provided code for the parent Vehicle class. You should access the parent class within a method of the child class.\n",
        "\n",
        "    class Vehicle:\n",
        "      def __init__(self, name, mileage, capacity):\n",
        "        self.name = name\n",
        "        self.mileage = mileage\n",
        "        self.capacity = capacity\n",
        "\n",
        "      def fare(self):\n",
        "        return self.capacity * 100\n",
        "\n",
        "    class Bus(Vehicle):\n",
        "        pass\n",
        "        School_bus = Bus(\"School Volvo\", 12, 50)\n",
        "        print(\"Total Bus fare is:\", School_bus.fare())\n",
        "\n",
        "    Expected Output:\n",
        "\n",
        "    Total Bus fare is: 5500.0"
      ],
      "metadata": {
        "id": "kenJ766m2_jc"
      }
    },
    {
      "cell_type": "code",
      "source": [
        "#write here and run the cell\n",
        "class Vehicle:\n",
        "  def __init__(self, name, mileage, capacity):\n",
        "    self.name = name\n",
        "    self.mileage = mileage\n",
        "    self.capacity = capacity\n",
        "\n",
        "  def fare(self):\n",
        "    return self.capacity * 100\n",
        "\n",
        "class Bus(Vehicle):\n",
        "  def __init__(self, name, mileage, capacity):\n",
        "    super().__init__(name, mileage, capacity)\n",
        "\n",
        "  def fare(self):\n",
        "    f = super().fare()\n",
        "    m = f * 0.1\n",
        "    return f + m\n",
        "\n",
        "School_bus = Bus(\"School Volvo\", 12, 50)\n",
        "print(\"Total Bus fare is:\", School_bus.fare())\n"
      ],
      "metadata": {
        "id": "jY3Z5SsY_iaQ",
        "colab": {
          "base_uri": "https://localhost:8080/"
        },
        "outputId": "c1b772be-d3da-4ddc-f4f8-c818634e3002"
      },
      "execution_count": 20,
      "outputs": [
        {
          "output_type": "stream",
          "name": "stdout",
          "text": [
            "Total Bus fare is: 5500.0\n"
          ]
        }
      ]
    },
    {
      "cell_type": "markdown",
      "source": [
        "### Python JSON Exercise\n",
        "Refer: [Python JSON tutorials](https://pynative.com/python/json/)"
      ],
      "metadata": {
        "id": "3wMvLEkk_nWE"
      }
    },
    {
      "cell_type": "markdown",
      "source": [
        "Q16. Convert the following dictionary into JSON format\n",
        "\n",
        "    data = {\"key1\" : \"value1\", \"key2\" : \"value2\"}\n",
        "    data = {\"key1\" : \"value1\", \"key2\" : \"value2\"}"
      ],
      "metadata": {
        "id": "zVIiuI0PAcuT"
      }
    },
    {
      "cell_type": "code",
      "source": [
        "#write here and run the cell\n",
        "import json\n",
        "\n",
        "data = {'key1': \"value1\", 'key2': \"value2\"}\n",
        "json_data = json.dumps(data)\n",
        "\n",
        "print(json_data)"
      ],
      "metadata": {
        "id": "Z5M47OYS_mhA",
        "colab": {
          "base_uri": "https://localhost:8080/"
        },
        "outputId": "984d1790-4c78-4d5c-860d-97bb2406f505"
      },
      "execution_count": 21,
      "outputs": [
        {
          "output_type": "stream",
          "name": "stdout",
          "text": [
            "{\"key1\": \"value1\", \"key2\": \"value2\"}\n"
          ]
        }
      ]
    },
    {
      "cell_type": "markdown",
      "source": [
        "Q17. Sort JSON keys in and write them into a file\n",
        "\n",
        "    sampleJson = {\"id\" : 1, \"name\" : \"value2\", \"age\" : 29}\n",
        "\n",
        "    {\n",
        "          \"age\": 29,\n",
        "          \"id\": 1,\n",
        "          \"name\": \"value2\"\n",
        "    }"
      ],
      "metadata": {
        "id": "8eE35QccA_X-"
      }
    },
    {
      "cell_type": "code",
      "source": [
        "#write here and run the cell\n",
        "import json\n",
        "\n",
        "sampleJson = {\"id\" : 1, \"name\" : \"value2\", \"age\" : 29}\n",
        "\n",
        "{\n",
        "      \"age\": 29,\n",
        "      \"id\": 1,\n",
        "      \"name\": \"value2\"\n",
        "}\n",
        "\n",
        "filename = '/content/sorted_json.json'\n",
        "\n",
        "sorted_json = json.dumps(sampleJson, sort_keys=True)\n",
        "\n",
        "with open(filename, 'w') as file:\n",
        "    file.write(sorted_json)\n",
        "\n",
        "print(sorted_json)"
      ],
      "metadata": {
        "id": "jLG5tk_X_j5O",
        "colab": {
          "base_uri": "https://localhost:8080/"
        },
        "outputId": "8bcf53da-f052-4d88-d30f-2d4c74078714"
      },
      "execution_count": 22,
      "outputs": [
        {
          "output_type": "stream",
          "name": "stdout",
          "text": [
            "{\"age\": 29, \"id\": 1, \"name\": \"value2\"}\n"
          ]
        }
      ]
    }
  ]
}